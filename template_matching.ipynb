{
  "nbformat": 4,
  "nbformat_minor": 0,
  "metadata": {
    "colab": {
      "provenance": [],
      "collapsed_sections": [
        "aWT3ik67Udja",
        "Q71GBr6HUZRB",
        "Nxa8PHIzT3Sh"
      ]
    },
    "kernelspec": {
      "name": "python3",
      "display_name": "Python 3"
    },
    "language_info": {
      "name": "python"
    }
  },
  "cells": [
    {
      "cell_type": "markdown",
      "source": [
        "# Pengenalan Pola - Template Matching"
      ],
      "metadata": {
        "id": "inc2o1ykTxS7"
      }
    },
    {
      "cell_type": "markdown",
      "source": [
        "#### Anggota Kelompok\n",
        "1. BAPTISTA BRAHMANTIA NANDA JEHARU \t- 205314144\n",
        "2. KURNIAWAN RONALDI PURNAMA \t\t- 205314148\n",
        "3. PAULUS CAESARIO DITO PUTRA HARTONO - 205314159\n",
        "4. STEVEN \t\t\t\t\t\t- 205314172"
      ],
      "metadata": {
        "id": "4qDpZeIjgs3y"
      }
    },
    {
      "cell_type": "markdown",
      "source": [
        "## Mengambil file dari google drive menggunakan id-file\n",
        "contoh \n",
        "ID dari url `https://drive.google.com/file/d/1_qMSpHNPCHYcQNzdZ6-EefsunpX-KEey/view?usp=sharing`\n",
        "\n",
        "maka id dari url tersebut\n",
        "```\n",
        "https://drive.google.com/file/d/\n",
        "\n",
        "1_qMSpHNPCHYcQNzdZ6-EefsunpX-KEey <-- ID File\n",
        "\n",
        "/view?usp=sharing\n",
        "```"
      ],
      "metadata": {
        "id": "iZUNJmpKUiEB"
      }
    },
    {
      "cell_type": "code",
      "source": [
        "!gdown --id '1Z_71a7cHVvIz5LzkzuLjzAg3QZwCsZSu' -O data_daun_a.csv\n",
        "!gdown --id '1dP5g8lftOnhBc8zelY-4Px6Yx_1praYm' -O data_daun_b.csv\n",
        "!gdown --id '1_qMSpHNPCHYcQNzdZ6-EefsunpX-KEey' -O data_daun_c.csv\n",
        "!gdown --id '1ZSQCE7Bw7P-1_D_8BxurhbLkIjlWBAcO' -O data_daun_d.csv"
      ],
      "metadata": {
        "id": "V-IvOXOq8ydP"
      },
      "execution_count": null,
      "outputs": []
    },
    {
      "cell_type": "code",
      "source": [
        "# Pola 1 - Template matching\n",
        "import numpy as np\n",
        "import pandas as pd"
      ],
      "metadata": {
        "id": "N_dZDXmIMraf"
      },
      "execution_count": null,
      "outputs": []
    },
    {
      "cell_type": "markdown",
      "source": [
        "## File CSV sebagai Inputan"
      ],
      "metadata": {
        "id": "aWT3ik67Udja"
      }
    },
    {
      "cell_type": "code",
      "source": [
        "DAUN_A = pd.read_csv('data_daun_a.csv').to_numpy() # Konversi DataFrame ke Numpy Array\n",
        "DAUN_B = pd.read_csv('data_daun_b.csv').to_numpy()\n",
        "DAUN_C = pd.read_csv('data_daun_c.csv').to_numpy()\n",
        "DAUN_D = pd.read_csv('data_daun_d.csv').to_numpy()"
      ],
      "metadata": {
        "id": "6UdwHZlu92VU"
      },
      "execution_count": null,
      "outputs": []
    },
    {
      "cell_type": "markdown",
      "source": [
        "## Input Data "
      ],
      "metadata": {
        "id": "Q71GBr6HUZRB"
      }
    },
    {
      "cell_type": "code",
      "source": [
        "# Data ekstraksi ciri\n",
        "\n",
        "# INPUT\n",
        "DAUN = [\"A\",\"B\",\"C\",\"D\"]\n",
        "CIRI = np.array(\n",
        "    [\n",
        "      DAUN_A[10],\n",
        "      DAUN_B[10],\n",
        "      DAUN_C[10],\n",
        "      DAUN_D[10]\n",
        "    ]\n",
        ")\n",
        "\n",
        "# Database\n",
        "DB = np.array(\n",
        "    [\n",
        "      DAUN_A[0],\n",
        "      DAUN_B[0],\n",
        "      DAUN_C[0],\n",
        "      DAUN_D[0]\n",
        "    ]\n",
        ")\n",
        "\n",
        "# Database Rerata 1:5\n",
        "DBR = np.array(\n",
        "    [\n",
        "        np.average(DAUN_A[0:5],axis=0),\n",
        "        np.average(DAUN_B[0:5],axis=0),\n",
        "        np.average(DAUN_C[0:5],axis=0),\n",
        "        np.average(DAUN_D[0:5],axis=0)\n",
        "    ]\n",
        ")\n",
        "\n",
        "# Database Rerata 1:10\n",
        "DBR2 = np.array(\n",
        "    [\n",
        "        np.average(DAUN_A[0:10],axis=0),\n",
        "        np.average(DAUN_B[0:10],axis=0),\n",
        "        np.average(DAUN_C[0:10],axis=0),\n",
        "        np.average(DAUN_D[0:10],axis=0)\n",
        "    ]\n",
        ")\n",
        "\n",
        "CIRI"
      ],
      "metadata": {
        "id": "oK49AOHEMuT1"
      },
      "execution_count": null,
      "outputs": []
    },
    {
      "cell_type": "code",
      "execution_count": null,
      "metadata": {
        "id": "hs8YbNLwIi9N"
      },
      "outputs": [],
      "source": [
        "# Mengklasifikankan data daun\n",
        "def klasifikasi(ciri, db):\n",
        "  arr = []\n",
        "  for i in range(len(ciri)):\n",
        "    arr.append([])\n",
        "    for j in range(len(ciri[i])):\n",
        "      arr[i].append(sum(abs(ciri[i]-db[j])))\n",
        "  return arr\n",
        "\n",
        "# Mengambil data daun yang terkecil\n",
        "def getOutput(arr):\n",
        "  return np.argsort(np.array(arr))"
      ]
    },
    {
      "cell_type": "markdown",
      "source": [
        "## Hasil Perhitungan"
      ],
      "metadata": {
        "id": "Nxa8PHIzT3Sh"
      }
    },
    {
      "cell_type": "code",
      "source": [
        "# menyimpan hasil perhitungan menjadi 3 bagian\n",
        "A = [DAUN[x[0]] for x in getOutput(klasifikasi(CIRI,DB))] # bagian pertama Input dengan Single Value\n",
        "B = [DAUN[x[0]] for x in getOutput(klasifikasi(CIRI,DBR))] # bagian kedua Input dengan Rerata 5 Data\n",
        "C = [DAUN[x[0]] for x in getOutput(klasifikasi(CIRI,DBR2))] # bagian ketiga Input dengan Rerata 10 Data\n",
        "A"
      ],
      "metadata": {
        "id": "ZtwVVO2EI5EH",
        "colab": {
          "base_uri": "https://localhost:8080/"
        },
        "outputId": "a2008e06-d190-4fab-bebe-f5beb1fd765f"
      },
      "execution_count": null,
      "outputs": [
        {
          "output_type": "execute_result",
          "data": {
            "text/plain": [
              "['A', 'B', 'C', 'D']"
            ]
          },
          "metadata": {},
          "execution_count": 23
        }
      ]
    },
    {
      "cell_type": "markdown",
      "source": [
        "#### Perbandingan Data [A11, B11, C11, D11] dengan [A1, B1, C1, D1]"
      ],
      "metadata": {
        "id": "RHVtjNoTT-cZ"
      }
    },
    {
      "cell_type": "code",
      "source": [
        "DATABASE = [\"INPUT/DATABASE\",\"A1\",\"B1\",\"C1\",\"D1\",\"OUTPUT\"]\n",
        "INPUT_DAUN = [\"A11\",\"B11\",\"C11\",\"D11\"]\n",
        "correct = ['A', 'B', 'C', 'D']\n",
        "countCorrect = 0\n",
        "total = 0\n",
        "\n",
        "test = klasifikasi(CIRI,DB)\n",
        "for i in range(len(test)):\n",
        "  test[i].insert(0,INPUT_DAUN[i])\n",
        "  test[i].insert(len(test[i]),A[i])\n",
        "\n",
        "df = pd.DataFrame(test,columns=DATABASE)\n",
        "df\n",
        "\n",
        "print(test)"
      ],
      "metadata": {
        "colab": {
          "base_uri": "https://localhost:8080/",
          "height": 175
        },
        "id": "Xtuq6TqNjIRG",
        "outputId": "c51f4f7d-0df6-4b97-81ad-5863418d6a54"
      },
      "execution_count": null,
      "outputs": [
        {
          "output_type": "execute_result",
          "data": {
            "text/plain": [
              "  INPUT/DATABASE      A1      B1      C1      D1 OUTPUT\n",
              "0            A11   7.125  56.825  13.200  12.625      A\n",
              "1            B11  33.825  15.875  37.150  29.325      B\n",
              "2            C11  20.000  68.700  15.675  23.500      C\n",
              "3            D11  19.275  30.425  22.600  14.775      D"
            ],
            "text/html": [
              "\n",
              "  <div id=\"df-7b6f6993-77c0-4598-b41d-d12bf4e84875\">\n",
              "    <div class=\"colab-df-container\">\n",
              "      <div>\n",
              "<style scoped>\n",
              "    .dataframe tbody tr th:only-of-type {\n",
              "        vertical-align: middle;\n",
              "    }\n",
              "\n",
              "    .dataframe tbody tr th {\n",
              "        vertical-align: top;\n",
              "    }\n",
              "\n",
              "    .dataframe thead th {\n",
              "        text-align: right;\n",
              "    }\n",
              "</style>\n",
              "<table border=\"1\" class=\"dataframe\">\n",
              "  <thead>\n",
              "    <tr style=\"text-align: right;\">\n",
              "      <th></th>\n",
              "      <th>INPUT/DATABASE</th>\n",
              "      <th>A1</th>\n",
              "      <th>B1</th>\n",
              "      <th>C1</th>\n",
              "      <th>D1</th>\n",
              "      <th>OUTPUT</th>\n",
              "    </tr>\n",
              "  </thead>\n",
              "  <tbody>\n",
              "    <tr>\n",
              "      <th>0</th>\n",
              "      <td>A11</td>\n",
              "      <td>7.125</td>\n",
              "      <td>56.825</td>\n",
              "      <td>13.200</td>\n",
              "      <td>12.625</td>\n",
              "      <td>A</td>\n",
              "    </tr>\n",
              "    <tr>\n",
              "      <th>1</th>\n",
              "      <td>B11</td>\n",
              "      <td>33.825</td>\n",
              "      <td>15.875</td>\n",
              "      <td>37.150</td>\n",
              "      <td>29.325</td>\n",
              "      <td>B</td>\n",
              "    </tr>\n",
              "    <tr>\n",
              "      <th>2</th>\n",
              "      <td>C11</td>\n",
              "      <td>20.000</td>\n",
              "      <td>68.700</td>\n",
              "      <td>15.675</td>\n",
              "      <td>23.500</td>\n",
              "      <td>C</td>\n",
              "    </tr>\n",
              "    <tr>\n",
              "      <th>3</th>\n",
              "      <td>D11</td>\n",
              "      <td>19.275</td>\n",
              "      <td>30.425</td>\n",
              "      <td>22.600</td>\n",
              "      <td>14.775</td>\n",
              "      <td>D</td>\n",
              "    </tr>\n",
              "  </tbody>\n",
              "</table>\n",
              "</div>\n",
              "      <button class=\"colab-df-convert\" onclick=\"convertToInteractive('df-7b6f6993-77c0-4598-b41d-d12bf4e84875')\"\n",
              "              title=\"Convert this dataframe to an interactive table.\"\n",
              "              style=\"display:none;\">\n",
              "        \n",
              "  <svg xmlns=\"http://www.w3.org/2000/svg\" height=\"24px\"viewBox=\"0 0 24 24\"\n",
              "       width=\"24px\">\n",
              "    <path d=\"M0 0h24v24H0V0z\" fill=\"none\"/>\n",
              "    <path d=\"M18.56 5.44l.94 2.06.94-2.06 2.06-.94-2.06-.94-.94-2.06-.94 2.06-2.06.94zm-11 1L8.5 8.5l.94-2.06 2.06-.94-2.06-.94L8.5 2.5l-.94 2.06-2.06.94zm10 10l.94 2.06.94-2.06 2.06-.94-2.06-.94-.94-2.06-.94 2.06-2.06.94z\"/><path d=\"M17.41 7.96l-1.37-1.37c-.4-.4-.92-.59-1.43-.59-.52 0-1.04.2-1.43.59L10.3 9.45l-7.72 7.72c-.78.78-.78 2.05 0 2.83L4 21.41c.39.39.9.59 1.41.59.51 0 1.02-.2 1.41-.59l7.78-7.78 2.81-2.81c.8-.78.8-2.07 0-2.86zM5.41 20L4 18.59l7.72-7.72 1.47 1.35L5.41 20z\"/>\n",
              "  </svg>\n",
              "      </button>\n",
              "      \n",
              "  <style>\n",
              "    .colab-df-container {\n",
              "      display:flex;\n",
              "      flex-wrap:wrap;\n",
              "      gap: 12px;\n",
              "    }\n",
              "\n",
              "    .colab-df-convert {\n",
              "      background-color: #E8F0FE;\n",
              "      border: none;\n",
              "      border-radius: 50%;\n",
              "      cursor: pointer;\n",
              "      display: none;\n",
              "      fill: #1967D2;\n",
              "      height: 32px;\n",
              "      padding: 0 0 0 0;\n",
              "      width: 32px;\n",
              "    }\n",
              "\n",
              "    .colab-df-convert:hover {\n",
              "      background-color: #E2EBFA;\n",
              "      box-shadow: 0px 1px 2px rgba(60, 64, 67, 0.3), 0px 1px 3px 1px rgba(60, 64, 67, 0.15);\n",
              "      fill: #174EA6;\n",
              "    }\n",
              "\n",
              "    [theme=dark] .colab-df-convert {\n",
              "      background-color: #3B4455;\n",
              "      fill: #D2E3FC;\n",
              "    }\n",
              "\n",
              "    [theme=dark] .colab-df-convert:hover {\n",
              "      background-color: #434B5C;\n",
              "      box-shadow: 0px 1px 3px 1px rgba(0, 0, 0, 0.15);\n",
              "      filter: drop-shadow(0px 1px 2px rgba(0, 0, 0, 0.3));\n",
              "      fill: #FFFFFF;\n",
              "    }\n",
              "  </style>\n",
              "\n",
              "      <script>\n",
              "        const buttonEl =\n",
              "          document.querySelector('#df-7b6f6993-77c0-4598-b41d-d12bf4e84875 button.colab-df-convert');\n",
              "        buttonEl.style.display =\n",
              "          google.colab.kernel.accessAllowed ? 'block' : 'none';\n",
              "\n",
              "        async function convertToInteractive(key) {\n",
              "          const element = document.querySelector('#df-7b6f6993-77c0-4598-b41d-d12bf4e84875');\n",
              "          const dataTable =\n",
              "            await google.colab.kernel.invokeFunction('convertToInteractive',\n",
              "                                                     [key], {});\n",
              "          if (!dataTable) return;\n",
              "\n",
              "          const docLinkHtml = 'Like what you see? Visit the ' +\n",
              "            '<a target=\"_blank\" href=https://colab.research.google.com/notebooks/data_table.ipynb>data table notebook</a>'\n",
              "            + ' to learn more about interactive tables.';\n",
              "          element.innerHTML = '';\n",
              "          dataTable['output_type'] = 'display_data';\n",
              "          await google.colab.output.renderOutput(dataTable, element);\n",
              "          const docLink = document.createElement('div');\n",
              "          docLink.innerHTML = docLinkHtml;\n",
              "          element.appendChild(docLink);\n",
              "        }\n",
              "      </script>\n",
              "    </div>\n",
              "  </div>\n",
              "  "
            ]
          },
          "metadata": {},
          "execution_count": 24
        }
      ]
    },
    {
      "cell_type": "markdown",
      "source": [
        "#### Perbandingan Data [A11, B11, C11, D11] dengan [A1:A5, B1:B5, C1:C5, D1:D5]"
      ],
      "metadata": {
        "id": "ExoyqW0GUKNL"
      }
    },
    {
      "cell_type": "code",
      "source": [
        "DATABASE = [\"INPUT/DATABASE\",\"A1:A5\",\"B1:B5\",\"C1:C5\",\"D1:D5\",\"OUTPUT\"]\n",
        "INPUT_DAUN = [\"A11\",\"B11\",\"C11\",\"D11\"]\n",
        "\n",
        "test = klasifikasi(CIRI,DBR)\n",
        "for i in range(len(test)):\n",
        "  test[i].insert(0,INPUT_DAUN[i])\n",
        "  test[i].insert(len(test[i]),B[i])\n",
        "\n",
        "df = pd.DataFrame(test,columns=DATABASE)\n",
        "df"
      ],
      "metadata": {
        "colab": {
          "base_uri": "https://localhost:8080/",
          "height": 175
        },
        "id": "aMw8xCjSmHPF",
        "outputId": "7eb70348-53ef-4548-c385-7b5e2519c413"
      },
      "execution_count": null,
      "outputs": [
        {
          "output_type": "execute_result",
          "data": {
            "text/plain": [
              "  INPUT/DATABASE   A1:A5   B1:B5   C1:C5   D1:D5 OUTPUT\n",
              "0            A11   3.925  47.170  14.060   3.777      D\n",
              "1            B11  37.025   9.940  44.410  38.373      B\n",
              "2            C11  17.720  59.045   8.415  14.852      C\n",
              "3            D11  23.155  20.770  29.860  23.823      B"
            ],
            "text/html": [
              "\n",
              "  <div id=\"df-b85c3500-70e8-444f-9708-dd1201e1b57a\">\n",
              "    <div class=\"colab-df-container\">\n",
              "      <div>\n",
              "<style scoped>\n",
              "    .dataframe tbody tr th:only-of-type {\n",
              "        vertical-align: middle;\n",
              "    }\n",
              "\n",
              "    .dataframe tbody tr th {\n",
              "        vertical-align: top;\n",
              "    }\n",
              "\n",
              "    .dataframe thead th {\n",
              "        text-align: right;\n",
              "    }\n",
              "</style>\n",
              "<table border=\"1\" class=\"dataframe\">\n",
              "  <thead>\n",
              "    <tr style=\"text-align: right;\">\n",
              "      <th></th>\n",
              "      <th>INPUT/DATABASE</th>\n",
              "      <th>A1:A5</th>\n",
              "      <th>B1:B5</th>\n",
              "      <th>C1:C5</th>\n",
              "      <th>D1:D5</th>\n",
              "      <th>OUTPUT</th>\n",
              "    </tr>\n",
              "  </thead>\n",
              "  <tbody>\n",
              "    <tr>\n",
              "      <th>0</th>\n",
              "      <td>A11</td>\n",
              "      <td>3.925</td>\n",
              "      <td>47.170</td>\n",
              "      <td>14.060</td>\n",
              "      <td>3.777</td>\n",
              "      <td>D</td>\n",
              "    </tr>\n",
              "    <tr>\n",
              "      <th>1</th>\n",
              "      <td>B11</td>\n",
              "      <td>37.025</td>\n",
              "      <td>9.940</td>\n",
              "      <td>44.410</td>\n",
              "      <td>38.373</td>\n",
              "      <td>B</td>\n",
              "    </tr>\n",
              "    <tr>\n",
              "      <th>2</th>\n",
              "      <td>C11</td>\n",
              "      <td>17.720</td>\n",
              "      <td>59.045</td>\n",
              "      <td>8.415</td>\n",
              "      <td>14.852</td>\n",
              "      <td>C</td>\n",
              "    </tr>\n",
              "    <tr>\n",
              "      <th>3</th>\n",
              "      <td>D11</td>\n",
              "      <td>23.155</td>\n",
              "      <td>20.770</td>\n",
              "      <td>29.860</td>\n",
              "      <td>23.823</td>\n",
              "      <td>B</td>\n",
              "    </tr>\n",
              "  </tbody>\n",
              "</table>\n",
              "</div>\n",
              "      <button class=\"colab-df-convert\" onclick=\"convertToInteractive('df-b85c3500-70e8-444f-9708-dd1201e1b57a')\"\n",
              "              title=\"Convert this dataframe to an interactive table.\"\n",
              "              style=\"display:none;\">\n",
              "        \n",
              "  <svg xmlns=\"http://www.w3.org/2000/svg\" height=\"24px\"viewBox=\"0 0 24 24\"\n",
              "       width=\"24px\">\n",
              "    <path d=\"M0 0h24v24H0V0z\" fill=\"none\"/>\n",
              "    <path d=\"M18.56 5.44l.94 2.06.94-2.06 2.06-.94-2.06-.94-.94-2.06-.94 2.06-2.06.94zm-11 1L8.5 8.5l.94-2.06 2.06-.94-2.06-.94L8.5 2.5l-.94 2.06-2.06.94zm10 10l.94 2.06.94-2.06 2.06-.94-2.06-.94-.94-2.06-.94 2.06-2.06.94z\"/><path d=\"M17.41 7.96l-1.37-1.37c-.4-.4-.92-.59-1.43-.59-.52 0-1.04.2-1.43.59L10.3 9.45l-7.72 7.72c-.78.78-.78 2.05 0 2.83L4 21.41c.39.39.9.59 1.41.59.51 0 1.02-.2 1.41-.59l7.78-7.78 2.81-2.81c.8-.78.8-2.07 0-2.86zM5.41 20L4 18.59l7.72-7.72 1.47 1.35L5.41 20z\"/>\n",
              "  </svg>\n",
              "      </button>\n",
              "      \n",
              "  <style>\n",
              "    .colab-df-container {\n",
              "      display:flex;\n",
              "      flex-wrap:wrap;\n",
              "      gap: 12px;\n",
              "    }\n",
              "\n",
              "    .colab-df-convert {\n",
              "      background-color: #E8F0FE;\n",
              "      border: none;\n",
              "      border-radius: 50%;\n",
              "      cursor: pointer;\n",
              "      display: none;\n",
              "      fill: #1967D2;\n",
              "      height: 32px;\n",
              "      padding: 0 0 0 0;\n",
              "      width: 32px;\n",
              "    }\n",
              "\n",
              "    .colab-df-convert:hover {\n",
              "      background-color: #E2EBFA;\n",
              "      box-shadow: 0px 1px 2px rgba(60, 64, 67, 0.3), 0px 1px 3px 1px rgba(60, 64, 67, 0.15);\n",
              "      fill: #174EA6;\n",
              "    }\n",
              "\n",
              "    [theme=dark] .colab-df-convert {\n",
              "      background-color: #3B4455;\n",
              "      fill: #D2E3FC;\n",
              "    }\n",
              "\n",
              "    [theme=dark] .colab-df-convert:hover {\n",
              "      background-color: #434B5C;\n",
              "      box-shadow: 0px 1px 3px 1px rgba(0, 0, 0, 0.15);\n",
              "      filter: drop-shadow(0px 1px 2px rgba(0, 0, 0, 0.3));\n",
              "      fill: #FFFFFF;\n",
              "    }\n",
              "  </style>\n",
              "\n",
              "      <script>\n",
              "        const buttonEl =\n",
              "          document.querySelector('#df-b85c3500-70e8-444f-9708-dd1201e1b57a button.colab-df-convert');\n",
              "        buttonEl.style.display =\n",
              "          google.colab.kernel.accessAllowed ? 'block' : 'none';\n",
              "\n",
              "        async function convertToInteractive(key) {\n",
              "          const element = document.querySelector('#df-b85c3500-70e8-444f-9708-dd1201e1b57a');\n",
              "          const dataTable =\n",
              "            await google.colab.kernel.invokeFunction('convertToInteractive',\n",
              "                                                     [key], {});\n",
              "          if (!dataTable) return;\n",
              "\n",
              "          const docLinkHtml = 'Like what you see? Visit the ' +\n",
              "            '<a target=\"_blank\" href=https://colab.research.google.com/notebooks/data_table.ipynb>data table notebook</a>'\n",
              "            + ' to learn more about interactive tables.';\n",
              "          element.innerHTML = '';\n",
              "          dataTable['output_type'] = 'display_data';\n",
              "          await google.colab.output.renderOutput(dataTable, element);\n",
              "          const docLink = document.createElement('div');\n",
              "          docLink.innerHTML = docLinkHtml;\n",
              "          element.appendChild(docLink);\n",
              "        }\n",
              "      </script>\n",
              "    </div>\n",
              "  </div>\n",
              "  "
            ]
          },
          "metadata": {},
          "execution_count": 25
        }
      ]
    },
    {
      "cell_type": "markdown",
      "source": [
        "#### Perbandingan Data [A11, B11, C11, D11] dengan [A1:A10, B1:B10, C1:C10, D1:D10]"
      ],
      "metadata": {
        "id": "kG0oCF3CUQER"
      }
    },
    {
      "cell_type": "code",
      "source": [
        "DATABASE = [\"INPUT/DATABASE\",\"A1:A10\",\"B1:B10\",\"C1:C10\",\"D1:D10\",\"OUTPUT\"]\n",
        "INPUT_DAUN = [\"A11\",\"B11\",\"C11\",\"D11\"]\n",
        "\n",
        "test = klasifikasi(CIRI,DBR2)\n",
        "for i in range(len(test)):\n",
        "  test[i].insert(0,INPUT_DAUN[i])\n",
        "  test[i].insert(len(test[i]),C[i])\n",
        "\n",
        "df = pd.DataFrame(test,columns=DATABASE)\n",
        "df\n"
      ],
      "metadata": {
        "colab": {
          "base_uri": "https://localhost:8080/",
          "height": 175
        },
        "id": "bo8lzAD5mSQs",
        "outputId": "65ceeebf-a0b9-45c5-efc3-b8f50c8b70af"
      },
      "execution_count": null,
      "outputs": [
        {
          "output_type": "execute_result",
          "data": {
            "text/plain": [
              "  INPUT/DATABASE    A1:A10  B1:B10  C1:C10  D1:D10 OUTPUT\n",
              "0            A11   3.20875  43.172  13.100   4.391      A\n",
              "1            B11  44.03875   7.982  42.970  37.379      B\n",
              "2            C11  15.62625  55.047   9.855  15.446      C\n",
              "3            D11  29.60875  16.772  28.420  22.829      B"
            ],
            "text/html": [
              "\n",
              "  <div id=\"df-3d1f1aca-39f7-43cf-8057-a65f22ea72a6\">\n",
              "    <div class=\"colab-df-container\">\n",
              "      <div>\n",
              "<style scoped>\n",
              "    .dataframe tbody tr th:only-of-type {\n",
              "        vertical-align: middle;\n",
              "    }\n",
              "\n",
              "    .dataframe tbody tr th {\n",
              "        vertical-align: top;\n",
              "    }\n",
              "\n",
              "    .dataframe thead th {\n",
              "        text-align: right;\n",
              "    }\n",
              "</style>\n",
              "<table border=\"1\" class=\"dataframe\">\n",
              "  <thead>\n",
              "    <tr style=\"text-align: right;\">\n",
              "      <th></th>\n",
              "      <th>INPUT/DATABASE</th>\n",
              "      <th>A1:A10</th>\n",
              "      <th>B1:B10</th>\n",
              "      <th>C1:C10</th>\n",
              "      <th>D1:D10</th>\n",
              "      <th>OUTPUT</th>\n",
              "    </tr>\n",
              "  </thead>\n",
              "  <tbody>\n",
              "    <tr>\n",
              "      <th>0</th>\n",
              "      <td>A11</td>\n",
              "      <td>3.20875</td>\n",
              "      <td>43.172</td>\n",
              "      <td>13.100</td>\n",
              "      <td>4.391</td>\n",
              "      <td>A</td>\n",
              "    </tr>\n",
              "    <tr>\n",
              "      <th>1</th>\n",
              "      <td>B11</td>\n",
              "      <td>44.03875</td>\n",
              "      <td>7.982</td>\n",
              "      <td>42.970</td>\n",
              "      <td>37.379</td>\n",
              "      <td>B</td>\n",
              "    </tr>\n",
              "    <tr>\n",
              "      <th>2</th>\n",
              "      <td>C11</td>\n",
              "      <td>15.62625</td>\n",
              "      <td>55.047</td>\n",
              "      <td>9.855</td>\n",
              "      <td>15.446</td>\n",
              "      <td>C</td>\n",
              "    </tr>\n",
              "    <tr>\n",
              "      <th>3</th>\n",
              "      <td>D11</td>\n",
              "      <td>29.60875</td>\n",
              "      <td>16.772</td>\n",
              "      <td>28.420</td>\n",
              "      <td>22.829</td>\n",
              "      <td>B</td>\n",
              "    </tr>\n",
              "  </tbody>\n",
              "</table>\n",
              "</div>\n",
              "      <button class=\"colab-df-convert\" onclick=\"convertToInteractive('df-3d1f1aca-39f7-43cf-8057-a65f22ea72a6')\"\n",
              "              title=\"Convert this dataframe to an interactive table.\"\n",
              "              style=\"display:none;\">\n",
              "        \n",
              "  <svg xmlns=\"http://www.w3.org/2000/svg\" height=\"24px\"viewBox=\"0 0 24 24\"\n",
              "       width=\"24px\">\n",
              "    <path d=\"M0 0h24v24H0V0z\" fill=\"none\"/>\n",
              "    <path d=\"M18.56 5.44l.94 2.06.94-2.06 2.06-.94-2.06-.94-.94-2.06-.94 2.06-2.06.94zm-11 1L8.5 8.5l.94-2.06 2.06-.94-2.06-.94L8.5 2.5l-.94 2.06-2.06.94zm10 10l.94 2.06.94-2.06 2.06-.94-2.06-.94-.94-2.06-.94 2.06-2.06.94z\"/><path d=\"M17.41 7.96l-1.37-1.37c-.4-.4-.92-.59-1.43-.59-.52 0-1.04.2-1.43.59L10.3 9.45l-7.72 7.72c-.78.78-.78 2.05 0 2.83L4 21.41c.39.39.9.59 1.41.59.51 0 1.02-.2 1.41-.59l7.78-7.78 2.81-2.81c.8-.78.8-2.07 0-2.86zM5.41 20L4 18.59l7.72-7.72 1.47 1.35L5.41 20z\"/>\n",
              "  </svg>\n",
              "      </button>\n",
              "      \n",
              "  <style>\n",
              "    .colab-df-container {\n",
              "      display:flex;\n",
              "      flex-wrap:wrap;\n",
              "      gap: 12px;\n",
              "    }\n",
              "\n",
              "    .colab-df-convert {\n",
              "      background-color: #E8F0FE;\n",
              "      border: none;\n",
              "      border-radius: 50%;\n",
              "      cursor: pointer;\n",
              "      display: none;\n",
              "      fill: #1967D2;\n",
              "      height: 32px;\n",
              "      padding: 0 0 0 0;\n",
              "      width: 32px;\n",
              "    }\n",
              "\n",
              "    .colab-df-convert:hover {\n",
              "      background-color: #E2EBFA;\n",
              "      box-shadow: 0px 1px 2px rgba(60, 64, 67, 0.3), 0px 1px 3px 1px rgba(60, 64, 67, 0.15);\n",
              "      fill: #174EA6;\n",
              "    }\n",
              "\n",
              "    [theme=dark] .colab-df-convert {\n",
              "      background-color: #3B4455;\n",
              "      fill: #D2E3FC;\n",
              "    }\n",
              "\n",
              "    [theme=dark] .colab-df-convert:hover {\n",
              "      background-color: #434B5C;\n",
              "      box-shadow: 0px 1px 3px 1px rgba(0, 0, 0, 0.15);\n",
              "      filter: drop-shadow(0px 1px 2px rgba(0, 0, 0, 0.3));\n",
              "      fill: #FFFFFF;\n",
              "    }\n",
              "  </style>\n",
              "\n",
              "      <script>\n",
              "        const buttonEl =\n",
              "          document.querySelector('#df-3d1f1aca-39f7-43cf-8057-a65f22ea72a6 button.colab-df-convert');\n",
              "        buttonEl.style.display =\n",
              "          google.colab.kernel.accessAllowed ? 'block' : 'none';\n",
              "\n",
              "        async function convertToInteractive(key) {\n",
              "          const element = document.querySelector('#df-3d1f1aca-39f7-43cf-8057-a65f22ea72a6');\n",
              "          const dataTable =\n",
              "            await google.colab.kernel.invokeFunction('convertToInteractive',\n",
              "                                                     [key], {});\n",
              "          if (!dataTable) return;\n",
              "\n",
              "          const docLinkHtml = 'Like what you see? Visit the ' +\n",
              "            '<a target=\"_blank\" href=https://colab.research.google.com/notebooks/data_table.ipynb>data table notebook</a>'\n",
              "            + ' to learn more about interactive tables.';\n",
              "          element.innerHTML = '';\n",
              "          dataTable['output_type'] = 'display_data';\n",
              "          await google.colab.output.renderOutput(dataTable, element);\n",
              "          const docLink = document.createElement('div');\n",
              "          docLink.innerHTML = docLinkHtml;\n",
              "          element.appendChild(docLink);\n",
              "        }\n",
              "      </script>\n",
              "    </div>\n",
              "  </div>\n",
              "  "
            ]
          },
          "metadata": {},
          "execution_count": 26
        }
      ]
    }
  ]
}